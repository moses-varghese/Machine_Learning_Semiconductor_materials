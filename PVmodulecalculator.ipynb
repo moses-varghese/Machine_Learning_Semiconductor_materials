{
 "cells": [
  {
   "cell_type": "markdown",
   "id": "3a142369",
   "metadata": {},
   "source": [
    "https://github.com/qpv-research-group/solcore5/blob/develop/examples/PV_module_calculator.ipynb"
   ]
  },
  {
   "cell_type": "code",
   "execution_count": 1,
   "id": "a893e954",
   "metadata": {},
   "outputs": [],
   "source": [
    "import numpy as np\n",
    "import matplotlib.pyplot as plt\n",
    "from solcore.solar_cell import SolarCell\n",
    "from solcore.light_source import LightSource\n",
    "from solcore.spice.pv_module_solver import solve_pv_module\n",
    "from solcore.structure import Junction"
   ]
  },
  {
   "cell_type": "code",
   "execution_count": 2,
   "id": "b4713846",
   "metadata": {},
   "outputs": [],
   "source": [
    "T = 298\n",
    "db_junction = Junction(kind='2D', T=T, reff=1, jref=300, Eg=0.66, A=1, R_series=0.00236, R_shunt=1e14, n=3.5)\n",
    "db_junction2 = Junction(kind='2D', T=T, reff=1, jref=300, Eg=1.4, A=1, R_series=0.00012, R_shunt=1e14, n=3.5)\n",
    "db_junction3 = Junction(kind='2D', T=T, reff=1, jref=300, Eg=1.9, A=1, R_series=8.0e-5, R_shunt=1e14, n=3.5)\n",
    "my_solar_cell = SolarCell([db_junction3, db_junction2, db_junction], T=T, R_series=0.0, area=0.1)"
   ]
  },
  {
   "cell_type": "code",
   "execution_count": 3,
   "id": "24bb3937",
   "metadata": {},
   "outputs": [],
   "source": [
    "wl = np.linspace(350, 2000, 301) * 1e-9\n",
    "light_source = LightSource(source_type='standard', version='AM1.5g', x=wl, output_units='photon_flux_per_m',\n",
    "                           concentration=1)"
   ]
  },
  {
   "cell_type": "code",
   "execution_count": 4,
   "id": "b169ee95",
   "metadata": {},
   "outputs": [],
   "source": [
    "options = {'light_iv': True, 'wavelength': wl, 'light_source': light_source, 'optics_method': 'BL'}"
   ]
  },
  {
   "cell_type": "code",
   "execution_count": 5,
   "id": "2b7a4529",
   "metadata": {},
   "outputs": [
    {
     "name": "stdout",
     "output_type": "stream",
     "text": [
      "Solving IV of the junctions...\n",
      "Solving IV of the tunnel junctions...\n",
      "Solving IV of the total solar cell...\n"
     ]
    },
    {
     "ename": "SpiceSolverError",
     "evalue": "Spice solver not found.",
     "output_type": "error",
     "traceback": [
      "\u001b[0;31m---------------------------------------------------------------------------\u001b[0m",
      "\u001b[0;31mSpiceSolverError\u001b[0m                          Traceback (most recent call last)",
      "Cell \u001b[0;32mIn[5], line 1\u001b[0m\n\u001b[0;32m----> 1\u001b[0m voltage, current, all_Isc_values, raw_data \u001b[38;5;241m=\u001b[39m \u001b[43msolve_pv_module\u001b[49m\u001b[43m(\u001b[49m\u001b[43mmy_solar_cell\u001b[49m\u001b[43m,\u001b[49m\u001b[43m \u001b[49m\u001b[43moptions\u001b[49m\u001b[43m,\u001b[49m\u001b[43m \u001b[49m\u001b[43mjscSigma\u001b[49m\u001b[38;5;241;43m=\u001b[39;49m\u001b[38;5;241;43m0.02\u001b[39;49m\u001b[43m)\u001b[49m\n",
      "File \u001b[0;32m~/anaconda3/envs/solarcell/lib/python3.9/site-packages/solcore/spice/pv_module_solver.py:117\u001b[0m, in \u001b[0;36msolve_pv_module\u001b[0;34m(solar_cell, options, totalcells, bias_start, bias_end, bias_step, jscSigma, shading)\u001b[0m\n\u001b[1;32m    114\u001b[0m spice_file \u001b[38;5;241m=\u001b[39m spice_file \u001b[38;5;241m+\u001b[39m \u001b[38;5;124m\"\u001b[39m\u001b[38;5;124m.end \u001b[39m\u001b[38;5;130;01m\\n\u001b[39;00m\u001b[38;5;130;01m\\n\u001b[39;00m\u001b[38;5;124m\"\u001b[39m\n\u001b[1;32m    116\u001b[0m \u001b[38;5;66;03m# And the definition of the spice file is finished. Now it's time to solve the problem\u001b[39;00m\n\u001b[0;32m--> 117\u001b[0m raw_data \u001b[38;5;241m=\u001b[39m \u001b[43msolve_circuit\u001b[49m\u001b[43m(\u001b[49m\u001b[43mspice_file\u001b[49m\u001b[43m)\u001b[49m\n\u001b[1;32m    119\u001b[0m voltage \u001b[38;5;241m=\u001b[39m []\n\u001b[1;32m    120\u001b[0m current \u001b[38;5;241m=\u001b[39m []\n",
      "File \u001b[0;32m~/anaconda3/envs/solarcell/lib/python3.9/site-packages/solcore/spice/spice.py:38\u001b[0m, in \u001b[0;36msolve_circuit\u001b[0;34m(spice_file_contents, engine, raw)\u001b[0m\n\u001b[1;32m     36\u001b[0m spice\u001b[38;5;241m.\u001b[39mengine \u001b[38;5;241m=\u001b[39m engine\n\u001b[1;32m     37\u001b[0m \u001b[38;5;28;01mif\u001b[39;00m \u001b[38;5;129;01mnot\u001b[39;00m spice\u001b[38;5;241m.\u001b[39mengine:\n\u001b[0;32m---> 38\u001b[0m     \u001b[38;5;28;01mraise\u001b[39;00m SpiceSolverError(\u001b[38;5;124m\"\u001b[39m\u001b[38;5;124mSpice solver not found.\u001b[39m\u001b[38;5;124m\"\u001b[39m)\n\u001b[1;32m     40\u001b[0m \u001b[38;5;28;01mwith\u001b[39;00m tempfile\u001b[38;5;241m.\u001b[39mTemporaryDirectory(prefix\u001b[38;5;241m=\u001b[39m\u001b[38;5;124m\"\u001b[39m\u001b[38;5;124mtmp\u001b[39m\u001b[38;5;124m\"\u001b[39m, suffix\u001b[38;5;241m=\u001b[39m\u001b[38;5;124m\"\u001b[39m\u001b[38;5;124m_sc3NGSPICE\u001b[39m\u001b[38;5;124m\"\u001b[39m) \u001b[38;5;28;01mas\u001b[39;00m working_directory:\n\u001b[1;32m     42\u001b[0m     spice_file_path \u001b[38;5;241m=\u001b[39m os\u001b[38;5;241m.\u001b[39mpath\u001b[38;5;241m.\u001b[39mjoin(working_directory, spice\u001b[38;5;241m.\u001b[39minput_file)\n",
      "\u001b[0;31mSpiceSolverError\u001b[0m: Spice solver not found."
     ]
    }
   ],
   "source": [
    "voltage, current, all_Isc_values, raw_data = solve_pv_module(my_solar_cell, options, jscSigma=0.02)"
   ]
  },
  {
   "cell_type": "code",
   "execution_count": null,
   "id": "889d9fc4",
   "metadata": {},
   "outputs": [],
   "source": [
    "plt.figure(1)\n",
    "\n",
    "plt.subplot(311)\n",
    "plt.title('Histogram of sub-cell photocurrents')\n",
    "plt.ylabel('InGaP')\n",
    "plt.hist(([row[0] for row in all_Isc_values]), bins=20)\n",
    "\n",
    "plt.subplot(312)\n",
    "plt.hist(([row[1] for row in all_Isc_values]), bins=20)\n",
    "plt.ylabel('GaAs')\n",
    "\n",
    "plt.subplot(313)\n",
    "plt.xlabel('Current (A)')\n",
    "plt.ylabel('Ge')\n",
    "plt.hist(([row[2] for row in all_Isc_values]), bins=20)\n",
    "\n",
    "plt.figure(2)\n",
    "plt.plot(voltage, current)\n",
    "plt.xlabel('Voltage (V)')\n",
    "plt.ylabel('Current (A)')\n",
    "plt.xlim(0, 80)\n",
    "plt.ylim(0, 17)\n",
    "\n",
    "plt.show()"
   ]
  }
 ],
 "metadata": {
  "kernelspec": {
   "display_name": "Python 3 (ipykernel)",
   "language": "python",
   "name": "python3"
  },
  "language_info": {
   "codemirror_mode": {
    "name": "ipython",
    "version": 3
   },
   "file_extension": ".py",
   "mimetype": "text/x-python",
   "name": "python",
   "nbconvert_exporter": "python",
   "pygments_lexer": "ipython3",
   "version": "3.9.16"
  }
 },
 "nbformat": 4,
 "nbformat_minor": 5
}
